{
 "cells": [
  {
   "metadata": {
    "ExecuteTime": {
     "end_time": "2025-08-04T00:30:39.947762Z",
     "start_time": "2025-08-04T00:30:39.933384Z"
    }
   },
   "cell_type": "code",
   "source": [
    "\n",
    "import clustering_metrics as calc_acc\n",
    "import clustering_algo as cluster\n",
    "import importlib\n",
    "importlib.reload(calc_acc)\n",
    "importlib.reload(cluster)\n",
    "\n",
    "import data_call\n",
    "importlib.reload(data_call)\n",
    "\n",
    "import importlib\n",
    "\n",
    "import corespect as cs\n",
    "importlib.reload(cs)\n"
   ],
   "id": "2ae606867870b463",
   "outputs": [
    {
     "data": {
      "text/plain": [
       "<module 'corespect' from '/Users/chandrasekharmukherjee/PycharmProjects/cplearn/CoreSPECT/corespect.py'>"
      ]
     },
     "execution_count": 8,
     "metadata": {},
     "output_type": "execute_result"
    }
   ],
   "execution_count": 8
  },
  {
   "metadata": {
    "ExecuteTime": {
     "end_time": "2025-08-03T01:15:28.439684Z",
     "start_time": "2025-08-03T01:15:28.437078Z"
    }
   },
   "cell_type": "code",
   "source": [
    "def test_pairs(names,algo,cs_algo):\n",
    "\n",
    "    for data_name in names:\n",
    "        X,label= data_call.get_dataset(data_name)\n",
    "        hmap={}\n",
    "        t=0\n",
    "        for i in set(label):\n",
    "            hmap[i]=t\n",
    "            t+=1\n",
    "        new_label= [hmap[i] for i in label]\n",
    "        label= new_label\n",
    "        n=X.shape[0]\n",
    "\n",
    "\n",
    "\n",
    "\n"
   ],
   "id": "293e592f9484d13a",
   "outputs": [],
   "execution_count": 3
  },
  {
   "metadata": {
    "ExecuteTime": {
     "end_time": "2025-08-04T00:31:29.941595Z",
     "start_time": "2025-08-04T00:31:27.567093Z"
    }
   },
   "cell_type": "code",
   "source": [
    "import importlib\n",
    "\n",
    "import corespect as cs\n",
    "importlib.reload(cs)\n",
    "\n",
    "from collections import Counter\n",
    "\n",
    "\n",
    "name='Zhengmix8eq'\n",
    "\n",
    "\n",
    "X,label= data_call.get_dataset(name)\n",
    "hmap={}\n",
    "t=0\n",
    "for i in set(label):\n",
    "    hmap[i]=t\n",
    "    t+=1\n",
    "new_label= [hmap[i] for i in label]\n",
    "label= new_label\n",
    "\n",
    "n=X.shape[0]\n",
    "\n",
    "\n",
    "\n",
    "\n",
    "# indices =np.random.choice(np.arange(n), size=int(0.2*n), replace=False)\n",
    "# X=X[indices]\n",
    "# label=np.array(label)[indices]\n",
    "\n",
    "\n",
    "true_k=len(set(label))\n",
    "print(X.shape,len(label),true_k)\n",
    "\n",
    "\n",
    "final_labels=cluster.k_means(X,true_k,choose_min_obj=True)\n",
    "acc= calc_acc.cluster_acc(label, final_labels)\n",
    "print(\"K-Means:\")\n",
    "print(' '.join(f\"{num:.3f}\" for num in acc))\n",
    "print(len(set(final_labels)))\n",
    "#\n",
    "#\n",
    "# from collections import Counter\n",
    "# min_cs=min(Counter(label).values())\n",
    "# final_labels=cluster.louvain(X,ng_num=20,resolution=0.7)\n",
    "# acc= calc_acc.cluster_acc(label, final_labels)\n",
    "# print(\"Louvain:\")\n",
    "# print(' '.join(f\"{num:.3f}\" for num in acc))\n",
    "# print(len(set(final_labels)))\n",
    "\n",
    "\n",
    "algo_name='hdbscan'\n",
    "\n",
    "parts=[0.1,0.2,0.3,0.4,0.5,0.6,0.7,0.8,0.9,1]\n",
    "\n",
    "final_labels=cluster.hdbscan(X,min_cluster_size=10)\n",
    "acc= calc_acc.cluster_acc(label, final_labels)\n",
    "print(\"hdbscan:\",end='\\t')\n",
    "print(' '.join(f\"{num:.3f}\" for num in acc))\n",
    "\n",
    "final_labels=cs.corespect(X,true_k,q=40,r=40,ng_num=20,ranking_algo='FlowRank',layer_ratio=parts,cluster_algo=algo_name,cav='ind',propagate_algo='CDNN',send_meta_data=False)\n",
    "acc= calc_acc.cluster_acc(label, final_labels)\n",
    "print('CS-'+algo_name,':',end='\\t')\n",
    "print(' '.join(f\"{num:.3f}\" for num in acc))\n",
    "print(len(set(final_labels)))\n",
    "print(Counter(final_labels), sum(Counter(label).values()) , sum(Counter(final_labels).values()))"
   ],
   "id": "c010860fbe29c9f0",
   "outputs": [
    {
     "name": "stdout",
     "output_type": "stream",
     "text": [
      "(3994, 50) 3994 8\n",
      "K-Means:\n",
      "0.551 0.382 0.567 0.675 0.536\n",
      "8\n"
     ]
    },
    {
     "name": "stderr",
     "output_type": "stream",
     "text": [
      "/Users/chandrasekharmukherjee/.pyenv/versions/3.9.6/lib/python3.9/site-packages/sklearn/utils/deprecation.py:151: FutureWarning: 'force_all_finite' was renamed to 'ensure_all_finite' in 1.6 and will be removed in 1.8.\n",
      "  warnings.warn(\n",
      "/Users/chandrasekharmukherjee/.pyenv/versions/3.9.6/lib/python3.9/site-packages/sklearn/utils/deprecation.py:151: FutureWarning: 'force_all_finite' was renamed to 'ensure_all_finite' in 1.6 and will be removed in 1.8.\n",
      "  warnings.warn(\n"
     ]
    },
    {
     "name": "stdout",
     "output_type": "stream",
     "text": [
      "hdbscan:\t0.483 0.199 0.407 0.973 0.407\n",
      "Obtained vertex ranking using FlowRank\n",
      "Number of clusters found in the core: 4\n"
     ]
    },
    {
     "name": "stderr",
     "output_type": "stream",
     "text": [
      "/Users/chandrasekharmukherjee/.pyenv/versions/3.9.6/lib/python3.9/site-packages/sklearn/utils/deprecation.py:151: FutureWarning: 'force_all_finite' was renamed to 'ensure_all_finite' in 1.6 and will be removed in 1.8.\n",
      "  warnings.warn(\n",
      "/Users/chandrasekharmukherjee/.pyenv/versions/3.9.6/lib/python3.9/site-packages/sklearn/utils/deprecation.py:151: FutureWarning: 'force_all_finite' was renamed to 'ensure_all_finite' in 1.6 and will be removed in 1.8.\n",
      "  warnings.warn(\n"
     ]
    },
    {
     "name": "stdout",
     "output_type": "stream",
     "text": [
      "Finished propagation with CDNN\n",
      "CS-hdbscan :\t0.682 0.357 0.542 0.991 0.542\n",
      "4\n",
      "Counter({np.int64(3): 2302, np.int64(1): 591, np.int64(0): 577, np.int64(2): 524}) 3994 3994\n"
     ]
    }
   ],
   "execution_count": 12
  },
  {
   "metadata": {
    "ExecuteTime": {
     "end_time": "2025-08-03T21:39:05.386367Z",
     "start_time": "2025-08-03T21:38:23.422301Z"
    }
   },
   "cell_type": "code",
   "source": [
    "#Visualize\n",
    "from visualize import custom_func\n",
    "algo_name='hdbscan'\n",
    "\n",
    "parts=[0.1,0.2,0.3,0.4,0.5,0.6,0.7,0.8,0.9,1]\n",
    "\n",
    "final_labels=cluster.hdbscan(X,min_cluster_size=10)\n",
    "acc= calc_acc.cluster_acc(label, final_labels)\n",
    "print(\"hdbscan:\",end='\\t')\n",
    "print(' '.join(f\"{num:.3f}\" for num in acc))\n",
    "\n",
    "final_labels=cs.corespect(X,true_k,q=40,r=40,ng_num=20,ranking_algo='FlowRank',layer_ratio=parts,cluster_algo=algo_name,cav='ind',propagate_algo='CDNN',send_meta_data=False)\n",
    "acc= calc_acc.cluster_acc(label, final_labels)\n",
    "print('CS-'+algo_name,':',end='\\t')\n",
    "print(' '.join(f\"{num:.3f}\" for num in acc))\n",
    "print(len(set(final_labels)))\n",
    "print(Counter(final_labels), sum(Counter(label).values()) , sum(Counter(final_labels).values()))\n",
    "\n",
    "\n",
    "\n"
   ],
   "id": "986a673776ed867e",
   "outputs": [
    {
     "name": "stderr",
     "output_type": "stream",
     "text": [
      "/Users/chandrasekharmukherjee/Library/Python/3.9/lib/python/site-packages/sklearn/utils/deprecation.py:151: FutureWarning: 'force_all_finite' was renamed to 'ensure_all_finite' in 1.6 and will be removed in 1.8.\n",
      "  warnings.warn(\n",
      "/Users/chandrasekharmukherjee/Library/Python/3.9/lib/python/site-packages/sklearn/utils/deprecation.py:151: FutureWarning: 'force_all_finite' was renamed to 'ensure_all_finite' in 1.6 and will be removed in 1.8.\n",
      "  warnings.warn(\n",
      "/Users/chandrasekharmukherjee/Library/Python/3.9/lib/python/site-packages/hdbscan/prediction.py:663: RuntimeWarning: invalid value encountered in scalar divide\n",
      "  in_cluster_probs = all_points_prob_in_some_cluster(\n"
     ]
    },
    {
     "name": "stdout",
     "output_type": "stream",
     "text": [
      "hdbscan:\t0.230 0.007 0.258 0.491 0.105\n",
      "Obtained vertex ranking using FlowRank\n",
      "Number of clusters found in the core: 24\n"
     ]
    },
    {
     "name": "stderr",
     "output_type": "stream",
     "text": [
      "/Users/chandrasekharmukherjee/Library/Python/3.9/lib/python/site-packages/sklearn/utils/deprecation.py:151: FutureWarning: 'force_all_finite' was renamed to 'ensure_all_finite' in 1.6 and will be removed in 1.8.\n",
      "  warnings.warn(\n",
      "/Users/chandrasekharmukherjee/Library/Python/3.9/lib/python/site-packages/sklearn/utils/deprecation.py:151: FutureWarning: 'force_all_finite' was renamed to 'ensure_all_finite' in 1.6 and will be removed in 1.8.\n",
      "  warnings.warn(\n",
      "/Users/chandrasekharmukherjee/Library/Python/3.9/lib/python/site-packages/hdbscan/prediction.py:663: RuntimeWarning: invalid value encountered in scalar divide\n",
      "  in_cluster_probs = all_points_prob_in_some_cluster(\n"
     ]
    },
    {
     "name": "stdout",
     "output_type": "stream",
     "text": [
      "Finished propagation with CDNN\n",
      "CS-hdbscan :\t0.107 0.004 0.122 0.821 0.110\n",
      "24\n",
      "Counter({0: 8949, 13: 304, 21: 194, 7: 190, 18: 171, 15: 166, 11: 128, 23: 116, 22: 101, 16: 97, 12: 91, 19: 72, 14: 60, 17: 43, 4: 32, 5: 30, 8: 29, 1: 27, 3: 26, 10: 21, 20: 17, 9: 15, 6: 15, 2: 15}) 10909 10909\n"
     ]
    }
   ],
   "execution_count": 7
  },
  {
   "metadata": {},
   "cell_type": "code",
   "source": [
    "\n",
    "\n",
    "import numpy as np\n",
    "import plotly.express as px\n",
    "import pandas as pd\n",
    "\n",
    "def plotly_scatter_zoomable(X: np.ndarray, labels: np.ndarray = None, title: str = \"Interactive Scatter Plot\"):\n",
    "\n",
    "    import plotly.io as pio\n",
    "    pio.templates.default = \"plotly_white\"\n",
    "\n",
    "    if X.shape[1] != 2:\n",
    "        raise ValueError(\"Input array X must be 2-dimensional (n_samples, 2)\")\n",
    "\n",
    "    df = pd.DataFrame(X, columns=['x', 'y'])\n",
    "\n",
    "    if labels is not None:\n",
    "        df['label'] = labels.astype(str)  # force categorical interpretation\n",
    "        fig = px.scatter(\n",
    "            df,\n",
    "            x='x',\n",
    "            y='y',\n",
    "            color='label',\n",
    "            title=title\n",
    "        )\n",
    "    else:\n",
    "        fig = px.scatter(\n",
    "            df,\n",
    "            x='x',\n",
    "            y='y',\n",
    "            title=title\n",
    "        )\n",
    "\n",
    "    fig.update_traces(marker=dict(size=4), selector=dict(mode='markers'))\n",
    "    fig.update_layout(legend_title_text='Label', legend=dict(itemsizing='constant'),height=600,width=800)\n",
    "    fig.show()\n",
    "\n",
    "\n"
   ],
   "id": "8c1264afd9ce6b68",
   "outputs": [],
   "execution_count": null
  },
  {
   "metadata": {},
   "cell_type": "code",
   "source": [
    "ibd_names=['bcells',\n",
    "'cd4tcells',\n",
    "'cd8tcells',\n",
    "'epicolonic',\n",
    "'fibperi',\n",
    "'ilc',\n",
    "'ilealepi',\n",
    "'myeloid',\n",
    "'plasmacells']"
   ],
   "id": "76fb156795dd9bb8",
   "outputs": [],
   "execution_count": null
  },
  {
   "metadata": {},
   "cell_type": "code",
   "source": [
    "import umap\n",
    "\n",
    "for ell in ibd_names:\n",
    "    adata,label=data_call.get_dataset('IBD_'+ell)\n",
    "    X=adata.obsm['X_pca']\n",
    "    print(ell, X.shape)\n",
    "    reducer = umap.UMAP(n_neighbors=20, min_dist=0.1, n_components=2, metric='l2')\n",
    "    embedding_core = reducer.fit_transform(X)\n",
    "    plotly_scatter_zoomable(embedding_core)"
   ],
   "id": "70995b02edeb1373",
   "outputs": [],
   "execution_count": null
  },
  {
   "metadata": {},
   "cell_type": "code",
   "source": [
    "v=X.obs['total_counts_rp']\n",
    "print(type(v),v.shape)"
   ],
   "id": "f14b855002828a78",
   "outputs": [],
   "execution_count": null
  },
  {
   "metadata": {},
   "cell_type": "code",
   "source": "print(v)",
   "id": "a6b88166b7911a68",
   "outputs": [],
   "execution_count": null
  },
  {
   "cell_type": "code",
   "id": "initial_id",
   "metadata": {
    "collapsed": true
   },
   "source": [
    "#Check ranking performances.\n",
    "\n",
    "import numpy as np\n",
    "import data_call\n",
    "\n",
    "path='/Users/chandrasekharmukherjee/Data/CIFAR-all-embeddings'\n",
    "step1=['cifar10','cifar100']\n",
    "step2=['clip-large','clip-small','flat','simclr']\n",
    "step3=['data.npy','fm-strong_fm-strong.npy',\n",
    "'fm-strong_fm-weak.npy',\n",
    "'fm-weak_fm-weak.npy',\n",
    "'regular_regular.npy']\n",
    "\n",
    "\n",
    "X=np.load(path+'/'+step1[0]+'/'+step2[1]+'/'+step3[0])\n",
    "_,label= data_call.get_dataset('CIFAR-10')\n",
    "true_k= len(set(label))\n",
    "print(X.shape,len(label),true_k)\n",
    "\n",
    "#X=X / np.linalg.norm(X, axis=1, keepdims=True)\n",
    "\n",
    "n=X.shape[0]\n",
    "indices =np.random.choice(np.arange(n), size=int(0.2*n), replace=False)\n",
    "\n",
    "X=X[indices]\n",
    "label=np.array(label)[indices]\n",
    "true_k=len(set(label))\n",
    "\n",
    "print(X.shape,len(label),true_k)\n",
    "\n"
   ],
   "outputs": [],
   "execution_count": null
  },
  {
   "metadata": {},
   "cell_type": "code",
   "source": [
    "from collections import Counter\n",
    "X,label= data_call.get_dataset('miRNA')\n",
    "print(Counter(label))"
   ],
   "id": "6384eec398ef69d7",
   "outputs": [],
   "execution_count": null
  },
  {
   "metadata": {},
   "cell_type": "code",
   "source": [
    "\n",
    "import data_call\n",
    "\n",
    "X,label= data_call.get_dataset('cifar20_clip_large')\n",
    "hmap={}\n",
    "t=0\n",
    "for i in set(label):\n",
    "    hmap[i]=t\n",
    "    t+=1\n",
    "new_label= [hmap[i] for i in label]\n",
    "label= new_label\n",
    "\n",
    "true_k= len(set(label))\n",
    "print(X.shape,len(label),true_k)"
   ],
   "id": "e51e5170113cccd",
   "outputs": [],
   "execution_count": null
  },
  {
   "metadata": {},
   "cell_type": "code",
   "source": [
    "import importlib\n",
    "import numpy as np\n",
    "from collections import Counter\n",
    "import corespect as cs\n",
    "importlib.reload(cs)\n",
    "\n",
    "\n",
    "algo_name=('k_means')\n",
    "parts=[0.1,0.2,0.3,0.4,0.5,0.6,0.7,0.8,0.9,1]\n",
    "\n",
    "final_labels_cs=cs.corespect(X,true_k,q=40,r=40,ng_num=20,ranking_algo='FlowRank',layer_ratio=parts,cluster_algo=algo_name,cav='ind',propagate_algo='CDNN',send_meta_data=False)\n",
    "acc= calc_acc.cluster_acc(label, final_labels_cs)\n",
    "print(algo_name,':',end='\\t')\n",
    "print(' '.join(f\"{num:.3f}\" for num in acc))\n",
    "print(len(set(final_labels_cs)))\n",
    "\n",
    "\n",
    "print(Counter(final_labels_cs), sum(Counter(label).values()) , sum(Counter(final_labels_cs).values()))"
   ],
   "id": "2b70b037247bd6d0",
   "outputs": [],
   "execution_count": null
  },
  {
   "metadata": {},
   "cell_type": "code",
   "source": "SC: 0.629 0.261 0.514 0.745 0.463",
   "id": "f3c852835178d71c",
   "outputs": [],
   "execution_count": null
  },
  {
   "metadata": {},
   "cell_type": "code",
   "source": [
    "from collections import Counter\n",
    "min_cs=min(Counter(label).values())\n",
    "final_labels=cluster.hdbscan(X,min_cluster_size=10)\n",
    "acc= calc_acc.cluster_acc(label, final_labels)\n",
    "print(\"hdbscan:\")\n",
    "print(' '.join(f\"{num:.3f}\" for num in acc))\n",
    "print(len(set(final_labels)))"
   ],
   "id": "b56665723b7ef65b",
   "outputs": [],
   "execution_count": null
  },
  {
   "metadata": {},
   "cell_type": "code",
   "source": [
    "# indices = np.where(final_labels_cs == -1)[0]\n",
    "#\n",
    "# X_cs=X[indices]\n",
    "# label_cs=np.array(label)[indices]\n",
    "\n",
    "from collections import Counter\n",
    "min_cs=min(Counter(label).values())\n",
    "final_labels=cluster.louvain(X,ng_num=15,resolution=0.5)\n",
    "acc= calc_acc.cluster_acc(label, final_labels)\n",
    "print(\"Louvain:\")\n",
    "print(' '.join(f\"{num:.3f}\" for num in acc))\n",
    "print(len(set(final_labels)))"
   ],
   "id": "f02ce600e892ecfb",
   "outputs": [],
   "execution_count": null
  },
  {
   "metadata": {},
   "cell_type": "code",
   "source": [
    "final_labels_f=final_labels_cs.copy()\n",
    "t=0\n",
    "offset=len(set(final_labels_cs))\n",
    "\n",
    "for i in indices:\n",
    "    final_labels_f[i] = final_labels[t]+offset\n",
    "    t+=1\n",
    "\n",
    "acc= calc_acc.cluster_acc(label, final_labels_f)\n",
    "print(' '.join(f\"{num:.3f}\" for num in acc))\n",
    "print(len(set(final_labels_f)))"
   ],
   "id": "f3456d709471b451",
   "outputs": [],
   "execution_count": null
  },
  {
   "metadata": {},
   "cell_type": "code",
   "source": [
    "name='cifar20_clip_large'\n",
    "\n",
    "X,label= data_call.get_dataset(name)\n",
    "hmap={}\n",
    "t=0\n",
    "for i in set(label):\n",
    "    hmap[i]=t\n",
    "    t+=1\n",
    "new_label= [hmap[i] for i in label]\n",
    "label= new_label\n",
    "\n",
    "n=X.shape[0]\n",
    "\n",
    "# indices =np.random.choice(np.arange(n), size=int(0.2*n), replace=False)\n",
    "#\n",
    "# X=X[indices]\n",
    "# label=np.array(label)[indices]\n",
    "true_k=len(set(label))\n",
    "print(X.shape,len(label),true_k)\n"
   ],
   "id": "319467accc23787c",
   "outputs": [],
   "execution_count": null
  },
  {
   "metadata": {},
   "cell_type": "code",
   "source": [
    "acc=np.zeros(5)\n",
    "for i in range(5):\n",
    "    final_labels=cluster.k_means(X,true_k,choose_min_obj=False)\n",
    "    acc+= calc_acc.cluster_acc(label, final_labels)\n",
    "\n",
    "acc/=5\n",
    "print(\"K-Means:\")\n",
    "print(' '.join(f\"{num:.3f}\" for num in acc))\n",
    "print(len(set(final_labels)))"
   ],
   "id": "56e53995cd5bfb0b",
   "outputs": [],
   "execution_count": null
  },
  {
   "metadata": {},
   "cell_type": "code",
   "source": [
    "\n",
    "from utils import ranking\n",
    "\n",
    "name='MNIST'\n",
    "\n",
    "from kneed import KneeLocator\n",
    "\n",
    "X,label= data_call.get_dataset(name)\n",
    "hmap={}\n",
    "t=0\n",
    "for i in set(label):\n",
    "    hmap[i]=t\n",
    "    t+=1\n",
    "new_label= [hmap[i] for i in label]\n",
    "label= new_label\n",
    "\n",
    "n=X.shape[0]\n",
    "final_score= ranking.FlowRank(X, q=40, r=40)\n",
    "import matplotlib.pyplot as plt\n",
    "z=sorted(final_score.values(), reverse=True)\n",
    "print(len(z))\n",
    "plt.scatter([i for i in range(len(z))], z, s=1)\n",
    "plt.show()\n",
    "\n",
    "knee = KneeLocator([i for i in range(len(z))], z, curve='convex', direction='decreasing',S=2.0)\n",
    "print(f\"Elbow Index: {knee.knee}, Value: {z[knee.knee]}\")"
   ],
   "id": "b8b00817a206529a",
   "outputs": [],
   "execution_count": null
  },
  {
   "metadata": {},
   "cell_type": "code",
   "source": [
    "\n",
    "print(\"K-Means:\")\n",
    "print(' '.join(f\"{num:.3f}\" for num in acc*5))\n",
    "print(len(set(final_labels)))"
   ],
   "id": "199d34ae207ff798",
   "outputs": [],
   "execution_count": null
  },
  {
   "metadata": {},
   "cell_type": "code",
   "source": "print(true_k)",
   "id": "43d580ce166c03ae",
   "outputs": [],
   "execution_count": null
  },
  {
   "metadata": {},
   "cell_type": "code",
   "source": [
    "final_labels=cluster.spectral_clustering(X,true_k,choose_min_obj=True)\n",
    "acc= calc_acc.cluster_acc(label, final_labels)\n",
    "print(\"SC:\")\n",
    "print(' '.join(f\"{num:.3f}\" for num in acc))\n",
    "print(len(set(final_labels)))"
   ],
   "id": "4e2137a89756ce13",
   "outputs": [],
   "execution_count": null
  },
  {
   "metadata": {},
   "cell_type": "code",
   "source": "",
   "id": "1e456e31c19470f8",
   "outputs": [],
   "execution_count": null
  },
  {
   "metadata": {},
   "cell_type": "code",
   "source": [
    "import corespect as cs\n",
    "\n",
    "import importlib\n",
    "importlib.reload(cs)\n",
    "\n",
    "import warnings\n",
    "\n",
    "# Suppress FutureWarnings with a specific message\n",
    "warnings.filterwarnings(\n",
    "    \"ignore\",\n",
    "    message=\"'force_all_finite' was renamed to 'ensure_all_finite' in 1.6 and will be removed in 1.8.\",\n",
    "    category=FutureWarning\n",
    ")\n",
    "\n",
    "\n",
    "parts=[0.1,0.2,0.3,0.4,0.5,0.6,0.7,0.8,0.9,1]\n",
    "#parts=[0.2,0.4,0.6,0.8,1]\n",
    "clustering_algos=['hdbscan','k_means']\n",
    "\n",
    "#data_names=['miRNA','mRNA','ALM','AMB','VISP','Xin','Baron_Mouse', 'Baron_Human', 'Muraro','Segerstolpe','Zhengmix8eq','MNIST','Fashion-MNIST','CIFAR10-embedding','CIFAR100-embedding']\n",
    "\n",
    "data_names=['Fashion-MNIST','miRNA','mRNA','cifar10_clip_small','cifar20_clip_large']\n",
    "\n",
    "algo_name='hdbscan'\n",
    "\n",
    "for name in data_names:\n",
    "    X,label= data_call.get_dataset(name)\n",
    "    hmap={}\n",
    "    t=0\n",
    "    for i in set(label):\n",
    "        hmap[i]=t\n",
    "        t+=1\n",
    "    new_label= [hmap[i] for i in label]\n",
    "    label= new_label\n",
    "\n",
    "\n",
    "    true_k= len(set(label))\n",
    "    print(name,X.shape,len(label),true_k)\n",
    "\n",
    "    #\n",
    "    # final_labels=cluster.hdbscan(X,min_cluster_size=10)\n",
    "    # acc= calc_acc.cluster_acc(label, final_labels)\n",
    "    # print(\"hdbscan:\",end='\\t')\n",
    "    # print(' '.join(f\"{num:.3f}\" for num in acc))\n",
    "    #\n",
    "\n",
    "    from collections import Counter\n",
    "    min_cs=min(Counter(label).values())\n",
    "    final_labels=cluster.louvain(X,ng_num=20,resolution=0.7)\n",
    "    acc= calc_acc.cluster_acc(label, final_labels)\n",
    "    print(\"Louvain:\")\n",
    "    print(' '.join(f\"{num:.3f}\" for num in acc))\n",
    "    print(len(set(final_labels)))\n",
    "\n",
    "\n",
    "    final_labels=cs.corespect(X,0,q=40,r=40,ng_num=20,ranking_algo='FlowRank',layer_ratio=parts,cluster_algo=algo_name,cav='ind',propagate_algo='recursive_majority',send_meta_data=False)\n",
    "    acc= calc_acc.cluster_acc(label, final_labels)\n",
    "    print(\"CS-hdbscan:\",end='\\t')\n",
    "    print(' '.join(f\"{num:.3f}\" for num in acc))\n",
    "    print(len(set(final_labels)))\n",
    "    #print(Counter(final_labels), sum(Counter(label).values()) , sum(Counter(final_labels).values()))"
   ],
   "id": "6c9a494a19cc0be4",
   "outputs": [],
   "execution_count": null
  },
  {
   "metadata": {},
   "cell_type": "code",
   "source": [
    "s_set=[]\n",
    "n=X.shape[0]\n",
    "\n",
    "for i in range(n):\n",
    "    if label[i] in [6,7]:\n",
    "        s_set.append(i)\n",
    "X= X[s_set]\n",
    "label = np.array(label)[s_set]\n",
    "true_k= len(set(label))\n",
    "print(X.shape,len(label),true_k)"
   ],
   "id": "cc08b5c4f23d0a24",
   "outputs": [],
   "execution_count": null
  },
  {
   "metadata": {},
   "cell_type": "code",
   "source": [
    "from sklearn.manifold import SpectralEmbedding\n",
    "\n",
    "SE = SpectralEmbedding(n_components=true_k, affinity='nearest_neighbors', n_neighbors=15)\n",
    "X = SE.fit_transform(X)\n"
   ],
   "id": "e044e653c00af164",
   "outputs": [],
   "execution_count": null
  },
  {
   "metadata": {},
   "cell_type": "code",
   "source": [
    "label_km=calc_acc.get_Kmeans(X,15)\n",
    "acc_km=calc_acc.cluster_acc(label,label_km)\n",
    "print(' '.join(f\"{num:.3f}\" for num in acc_km))"
   ],
   "id": "43f1abd6919e1ce3",
   "outputs": [],
   "execution_count": null
  },
  {
   "metadata": {},
   "cell_type": "code",
   "source": [
    "pred_label=cluster.louvain(X,15,0.5)\n",
    "acc=calc_acc.cluster_acc(label,pred_label)\n",
    "print(' '.join(f\"{num:.3f}\" for num in acc))"
   ],
   "id": "dbbf1577659ba513",
   "outputs": [],
   "execution_count": null
  },
  {
   "metadata": {},
   "cell_type": "code",
   "source": "print(len(set(pred_label)))",
   "id": "d453e8909ac0f128",
   "outputs": [],
   "execution_count": null
  },
  {
   "metadata": {},
   "cell_type": "code",
   "source": [
    "\n",
    "\n",
    "\n"
   ],
   "id": "c59cd462eb2e8cde",
   "outputs": [],
   "execution_count": null
  },
  {
   "metadata": {},
   "cell_type": "code",
   "source": [
    "\n",
    "\n",
    "q=100\n",
    "r=100\n",
    "\n",
    "fr_score= ranking.FlowRank(X, q, r)\n",
    "#fr_hops_score=ranking.FlowRank_count_hops(X,q,r)\n",
    "\n",
    "sorted_fr=sorted_items =[k for k, v in sorted(fr_score.items(), key=lambda x: x[1], reverse=True)]\n",
    "#sorted_fr_hops=[k for k, v in sorted(fr_hops_score.items(), key=lambda x: x[1], reverse=True)]\n",
    "\n",
    "n=X.shape[0]\n",
    "s1=np.array(sorted_fr[0:n//10]).astype(int)"
   ],
   "id": "185bbdac60619c8f",
   "outputs": [],
   "execution_count": null
  },
  {
   "metadata": {},
   "cell_type": "code",
   "source": [
    "import networkx as nx\n",
    "\n",
    "knn_list,_= cluster.get_kNN(X, q=10)\n",
    "hmap=np.zeros(n)\n",
    "for i in s1:\n",
    "    hmap[i]=label[i]\n",
    "\n",
    "G=nx.DiGraph()\n",
    "for i in range(n):\n",
    "    for j in knn_list[i]:\n",
    "        if i != j:\n",
    "            G.add_edge(i,j,weight=1)\n",
    "\n",
    "gc=0\n",
    "tc=0\n",
    "gc_sub=0\n",
    "tc_sub=0\n",
    "for u,v in G.edges():\n",
    "\n",
    "    if label[u]==label[v]:\n",
    "        gc+=1\n",
    "    tc+=1\n",
    "\n",
    "    if hmap[u]>0 and hmap[v]>0:\n",
    "        if label[u]==label[v]:\n",
    "            gc_sub+=1\n",
    "        tc_sub+=1\n",
    "\n",
    "print(f\"Clustering accuracy: {gc/tc:.2f}\")\n",
    "print(f\"Subgraph clustering accuracy: {gc_sub/tc_sub:.2f}\")\n"
   ],
   "id": "95fe9bbc4e583a",
   "outputs": [],
   "execution_count": null
  },
  {
   "metadata": {},
   "cell_type": "code",
   "source": [
    "import umap\n",
    "\n",
    "reducer = umap.UMAP(n_neighbors=20, min_dist=0.1, n_components=2, metric='l2')\n",
    "embedding_core = reducer.fit_transform(X[s1])"
   ],
   "id": "4c52a8d2f3a7fbb8",
   "outputs": [],
   "execution_count": null
  },
  {
   "metadata": {},
   "cell_type": "code",
   "source": "plotly_scatter_zoomable(embedding_core,labels=np.array(label)[s1].astype(int))",
   "id": "15bf13094a5bc695",
   "outputs": [],
   "execution_count": null
  },
  {
   "metadata": {},
   "cell_type": "code",
   "source": "",
   "id": "e7a70d6dd0ab04ec",
   "outputs": [],
   "execution_count": null
  },
  {
   "metadata": {},
   "cell_type": "code",
   "source": "plotly_scatter_zoomable(embedding_core,labels=np.array(final_labels)[s1].astype(int))",
   "id": "a1d1adc35a31394f",
   "outputs": [],
   "execution_count": null
  },
  {
   "metadata": {},
   "cell_type": "code",
   "source": [
    "n=X.shape[0]\n",
    "ch_set=[]\n",
    "for i in range(n):\n",
    "    if final_labels[i]!=-1:\n",
    "        ch_set.append(i)\n",
    "\n",
    "print(len(ch_set))\n",
    "\n",
    "\n",
    "import umap\n",
    "\n",
    "reducer = umap.UMAP(n_neighbors=10, min_dist=0.1, n_components=2, metric='l2')\n",
    "embedding = reducer.fit_transform(X[ch_set])\n",
    "plotly_scatter_zoomable(embedding,labels=np.array(label)[ch_set].astype(int))\n",
    "\n"
   ],
   "id": "4e26354f227f5a93",
   "outputs": [],
   "execution_count": null
  },
  {
   "metadata": {},
   "cell_type": "markdown",
   "source": "",
   "id": "a6c115d8b361645d"
  },
  {
   "metadata": {},
   "cell_type": "markdown",
   "source": "",
   "id": "35b3c39cc5486bf5"
  },
  {
   "metadata": {},
   "cell_type": "code",
   "source": "plotly_scatter_zoomable(embedding,labels=np.array(final_labels)[ch_set].astype(int))",
   "id": "840a91448f162907",
   "outputs": [],
   "execution_count": null
  },
  {
   "metadata": {},
   "cell_type": "code",
   "source": [
    "n=X.shape[0]\n",
    "c_label=np.zeros(n)\n",
    "s_label=-1*np.ones(n)\n",
    "\n",
    "for i in range(n):\n",
    "    if final_labels[i]  != -1:\n",
    "        c_label[i]=1\n",
    "        s_label[i]=label[i]\n",
    "\n",
    "\n",
    "import umap\n",
    "reducer = umap.UMAP(n_neighbors=20, min_dist=0.1, n_components=2, metric='l2')\n",
    "embedding = reducer.fit_transform(X)\n",
    "\n"
   ],
   "id": "8c7c65e713a266ca",
   "outputs": [],
   "execution_count": null
  },
  {
   "metadata": {},
   "cell_type": "code",
   "source": "plotly_scatter_zoomable(embedding,labels=np.array(c_label).astype(int))",
   "id": "6fddbd24190e2c1e",
   "outputs": [],
   "execution_count": null
  },
  {
   "metadata": {},
   "cell_type": "code",
   "source": "plotly_scatter_zoomable(embedding,labels=np.array(label).astype(int))",
   "id": "fd5c396a3b0710",
   "outputs": [],
   "execution_count": null
  },
  {
   "metadata": {},
   "cell_type": "code",
   "source": "plotly_scatter_zoomable(embedding,labels=np.array(s_label).astype(int))",
   "id": "1c900333ae1fd6af",
   "outputs": [],
   "execution_count": null
  },
  {
   "metadata": {},
   "cell_type": "code",
   "source": "plotly_scatter_zoomable(embedding,labels=np.array(final_labels).astype(int))\n",
   "id": "598deb004d53678",
   "outputs": [],
   "execution_count": null
  },
  {
   "metadata": {},
   "cell_type": "code",
   "source": "pip install scanpy",
   "id": "df40e8e9a1c946b0",
   "outputs": [],
   "execution_count": null
  },
  {
   "metadata": {},
   "cell_type": "code",
   "source": [
    "\n",
    "\n",
    "\n",
    "_final.h5ad"
   ],
   "id": "8c380a81d7f154e0",
   "outputs": [],
   "execution_count": null
  },
  {
   "metadata": {},
   "cell_type": "code",
   "source": "",
   "id": "8ab654be13ec54a",
   "outputs": [],
   "execution_count": null
  }
 ],
 "metadata": {
  "kernelspec": {
   "display_name": "Python 3",
   "language": "python",
   "name": "python3"
  },
  "language_info": {
   "codemirror_mode": {
    "name": "ipython",
    "version": 2
   },
   "file_extension": ".py",
   "mimetype": "text/x-python",
   "name": "python",
   "nbconvert_exporter": "python",
   "pygments_lexer": "ipython2",
   "version": "2.7.6"
  }
 },
 "nbformat": 4,
 "nbformat_minor": 5
}
